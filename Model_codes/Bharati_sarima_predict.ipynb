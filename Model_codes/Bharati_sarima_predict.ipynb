{
 "cells": [
  {
   "cell_type": "code",
   "execution_count": 87,
   "metadata": {},
   "outputs": [],
   "source": [
    "import numpy as np\n",
    "import pmdarima as pm\n",
    "from pmdarima import pipeline, preprocessing as ppc, arima\n",
    "from matplotlib import pyplot as plt\n",
    "import math\n"
   ]
  },
  {
   "cell_type": "code",
   "execution_count": 70,
   "metadata": {},
   "outputs": [],
   "source": [
    "from sklearn.metrics import mean_squared_error\n",
    "import matplotlib.pyplot as plt\n",
    "\n",
    "import pandas as pd\n",
    "import datetime\n",
    "%matplotlib inline\n",
    "from scipy import stats"
   ]
  },
  {
   "cell_type": "code",
   "execution_count": 145,
   "metadata": {},
   "outputs": [],
   "source": [
    "data2=pd.read_csv('datasets/iig_maitri.csv')\n",
    "data2['obstime']=pd.to_datetime(data2['obstime'],format='%m/%d/%Y %H:%M')\n",
    "data2=data2.drop(['rh','ws','wd','ap'] , axis=1)\n",
    "data2=data2.set_index('obstime')\n",
    "# print(data)"
   ]
  },
  {
   "cell_type": "code",
   "execution_count": 158,
   "metadata": {},
   "outputs": [],
   "source": [
    "\n",
    "data=data2.resample('M').mean()\n",
    "# print(data)\n",
    "data.dropna(inplace=True)"
   ]
  },
  {
   "cell_type": "code",
   "execution_count": 159,
   "metadata": {},
   "outputs": [
    {
     "name": "stdout",
     "output_type": "stream",
     "text": [
      "tempr    11.216966\n",
      "dtype: float64\n"
     ]
    }
   ],
   "source": [
    "Q1 = data.quantile(0.25)\n",
    "Q3 = data.quantile(0.75)\n",
    "IQR = Q3 - Q1\n",
    "print(IQR)"
   ]
  },
  {
   "cell_type": "code",
   "execution_count": 160,
   "metadata": {},
   "outputs": [
    {
     "data": {
      "text/plain": [
       "(47, 1)"
      ]
     },
     "execution_count": 160,
     "metadata": {},
     "output_type": "execute_result"
    }
   ],
   "source": [
    "data = data[~((data < (Q1 - 1.5 * IQR)) |(data > (Q3 + 1.5 * IQR))).any(axis=1)]\n",
    "data.shape"
   ]
  },
  {
   "cell_type": "code",
   "execution_count": 169,
   "metadata": {},
   "outputs": [],
   "source": [
    "train, test = data[:int(0.5*data.shape[0])], data[int(0.5*data.shape[0]):]"
   ]
  },
  {
   "cell_type": "code",
   "execution_count": 170,
   "metadata": {
    "scrolled": true
   },
   "outputs": [
    {
     "name": "stdout",
     "output_type": "stream",
     "text": [
      "Fit ARIMA: order=(2, 0, 2); AIC=nan, BIC=nan, Fit time=nan seconds\n",
      "Fit ARIMA: order=(0, 0, 0); AIC=86.872, BIC=102.769, Fit time=0.073 seconds\n",
      "Fit ARIMA: order=(1, 0, 0); AIC=88.666, BIC=105.698, Fit time=0.192 seconds\n",
      "Fit ARIMA: order=(0, 0, 1); AIC=88.669, BIC=105.701, Fit time=0.190 seconds\n",
      "Fit ARIMA: order=(1, 0, 1); AIC=nan, BIC=nan, Fit time=nan seconds\n",
      "Total fit time: 0.514 seconds\n",
      "Model fit:\n",
      "Pipeline(steps=[('fourier', FourierFeaturizer(k=None, m=12)), ('arima', AutoARIMA(D=None, alpha=0.05, callback=None, d=None, disp=0,\n",
      "     error_action='ignore', information_criterion='aic', m=1, max_D=1,\n",
      "     max_P=2, max_Q=2, max_d=2, max_order=10, max_p=5, max_q=5,\n",
      "     maxiter=None, method=None, n_fits=10...ress_warnings=True, test='kpss', trace=1,\n",
      "     transparams=False, trend=None, with_intercept=True))])\n"
     ]
    }
   ],
   "source": [
    "# Let's create a pipeline with multiple stages... the Wineind dataset is\n",
    "# seasonal, so we'll include a FourierFeaturizer so we can fit it without\n",
    "# seasonality\n",
    "pipe = pipeline.Pipeline([\n",
    "    (\"fourier\", ppc.FourierFeaturizer(m=12)),\n",
    "    (\"arima\", arima.AutoARIMA(stepwise=True, trace=1, error_action=\"ignore\",\n",
    "                              seasonal=False,  # because we use Fourier\n",
    "                              transparams=False,\n",
    "                              suppress_warnings=True))\n",
    "])\n",
    "\n",
    "pipe.fit(train)\n",
    "print(\"Model fit:\")\n",
    "print(pipe)\n"
   ]
  },
  {
   "cell_type": "code",
   "execution_count": 171,
   "metadata": {},
   "outputs": [],
   "source": [
    "# print(test.size)\n",
    "# preds, conf_int = pipe.predict(n_periods=int(test.size), return_conf_int=True)\n",
    "preds, conf_int = pipe.predict(n_periods=100, return_conf_int=True)\n",
    "\n",
    "temp=np.append(train,preds)\n",
    "# print(\"\\nForecasts:\")\n",
    "# print(preds)\n",
    "# print(conf_int)"
   ]
  },
  {
   "cell_type": "code",
   "execution_count": 172,
   "metadata": {},
   "outputs": [
    {
     "data": {
      "text/plain": [
       "[<matplotlib.lines.Line2D at 0x7fd5e9b39780>]"
      ]
     },
     "execution_count": 172,
     "metadata": {},
     "output_type": "execute_result"
    },
    {
     "data": {
      "image/png": "[encoded data removed]",
      "text/plain": [
       "<Figure size 432x288 with 1 Axes>"
      ]
     },
     "metadata": {
      "needs_background": "light"
     },
     "output_type": "display_data"
    }
   ],
   "source": [
    "plt.plot(data.values)\n",
    "plt.plot(temp,color='red')"
   ]
  },
  {
   "cell_type": "code",
   "execution_count": 168,
   "metadata": {},
   "outputs": [
    {
     "name": "stdout",
     "output_type": "stream",
     "text": [
      "3.6255939595165687\n"
     ]
    }
   ],
   "source": [
    "testScore=math.sqrt(mean_squared_error(test, preds[:len(test)]))\n",
    "print(testScore)"
   ]
  }
 ],
 "metadata": {
  "kernelspec": {
   "display_name": "Python 3",
   "language": "python",
   "name": "python3"
  },
  "language_info": {
   "codemirror_mode": {
    "name": "ipython",
    "version": 3
   },
   "file_extension": ".py",
   "mimetype": "text/x-python",
   "name": "python",
   "nbconvert_exporter": "python",
   "pygments_lexer": "ipython3",
   "version": "3.7.3"
  }
 },
 "nbformat": 4,
 "nbformat_minor": 2
}
